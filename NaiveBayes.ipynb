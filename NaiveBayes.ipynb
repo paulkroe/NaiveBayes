{
 "cells": [
  {
   "cell_type": "code",
   "execution_count": 82,
   "metadata": {},
   "outputs": [],
   "source": [
    "\n",
    "import re\n",
    "from sklearn.datasets import fetch_20newsgroups\n",
    "from collections import Counter\n",
    "from math import log\n",
    "from tqdm import tqdm"
   ]
  },
  {
   "cell_type": "code",
   "execution_count": 96,
   "metadata": {},
   "outputs": [
    {
     "name": "stdout",
     "output_type": "stream",
     "text": [
      "Classes:  ['alt.atheism', 'comp.graphics', 'comp.os.ms-windows.misc', 'comp.sys.ibm.pc.hardware', 'comp.sys.mac.hardware', 'comp.windows.x', 'misc.forsale', 'rec.autos', 'rec.motorcycles', 'rec.sport.baseball', 'rec.sport.hockey', 'sci.crypt', 'sci.electronics', 'sci.med', 'sci.space', 'soc.religion.christian', 'talk.politics.guns', 'talk.politics.mideast', 'talk.politics.misc', 'talk.religion.misc']\n",
      "Example text:\n",
      " I was wondering if anyone out there could enlighten me on this car I saw\n",
      "the other day. It was a 2-door sports car, looked to be from the late 60s/\n",
      "early 70s. It was called a Bricklin. The doors were really small. In addition,\n",
      "the front bumper was separate from the rest of the body. This is \n",
      "all I know. If anyone can tellme a model name, engine specs, years\n",
      "of production, where this car is made, history, or whatever info you\n",
      "have on this funky looking car, please e-mail.\n",
      "Label:  rec.autos\n"
     ]
    }
   ],
   "source": [
    "train_data = fetch_20newsgroups(subset='train', remove=('headers', 'footers', 'quotes'))\n",
    "test_data = fetch_20newsgroups(subset='test', remove=('headers', 'footers', 'quotes'))\n",
    "\n",
    "print(\"Classes: \", train_data.target_names)\n",
    "print(\"Example text:\\n\", train_data.data[0])\n",
    "print(\"Label: \", train_data.target_names[train_data.target[0]])"
   ]
  },
  {
   "cell_type": "code",
   "execution_count": 93,
   "metadata": {},
   "outputs": [],
   "source": [
    "class NaiveBayes():\n",
    "    def __init__(self, train_data):\n",
    "        self.train_data = train_data   \n",
    "        self.train_class_priors = self.get_class_priors(train_data)\n",
    "        self.train_vocab = self.get_vocabulary(train_data)\n",
    "        self.get_conditionals(train_data)\n",
    "        \n",
    "    def get_class_priors(self, data, verbose = False):\n",
    "        total_documents = len(data.target)\n",
    "        class_counts = Counter(data.target)\n",
    "\n",
    "        class_priors = {class_id: count / total_documents for class_id, count in class_counts.items()}\n",
    "\n",
    "        if verbose:\n",
    "            for class_id, prior in class_priors.items():\n",
    "                class_name = data.target_names[class_id]\n",
    "                print(f\"Class: {class_name}, Prior: {prior:.4f}\")\n",
    "            \n",
    "        return class_priors\n",
    "            \n",
    "    def get_word_list(self, doc):\n",
    "        \n",
    "        words = doc.lower()\n",
    "        words = re.sub(r'[^a-z0-9\\s]', '', words)\n",
    "        words = words.split()\n",
    "        \n",
    "        return words\n",
    "\n",
    "    def get_vocabulary(self, data, verbose = False):\n",
    "        vocab = set()\n",
    "        for doc in data.data:\n",
    "            vocab.update(self.get_word_list(doc))\n",
    "            \n",
    "        if verbose:\n",
    "            print(f\"Vocabulary Size: {len(vocab)}\")\n",
    "        \n",
    "        return vocab\n",
    "    \n",
    "    def get_conditionals(self, data):\n",
    "        for i in range(0, 20):\n",
    "            setattr(self, f\"counts_{i}\", Counter())\n",
    "            \n",
    "        for ind, doc in enumerate(data.data):\n",
    "            doc_class = data.target[ind] \n",
    "            words = self.get_word_list(doc)\n",
    "            getattr(self, f\"counts_{doc_class}\").update(words)\n",
    "            \n",
    "        for i in range(0, 20):\n",
    "            setattr(self, f\"total_{i}\", sum(getattr(self, f\"counts_{i}\").values()))\n",
    "        \n",
    "    # returns log(P(w|c) if w is in vocab 0 otherwise\n",
    "    def __getitem__(self, *args):\n",
    "        if len(*args) != 2:\n",
    "            raise TypeError(\"Two arguments required: word, class_index.\")\n",
    "        \n",
    "        word, c = args[0]\n",
    "        return log((getattr(self, f\"counts_{c}\")[word] + 1) / (len(self.train_vocab) + getattr(self, f\"total_{c}\"))) if (word in self.train_vocab) else 0\n",
    "\n",
    "    def get_prob(self, doc, c):\n",
    "        words = self.get_word_list(doc)\n",
    "        return sum([self[w, c] for w in words]) + self.train_class_priors[c]\n",
    "    \n",
    "    def __call__(self, *args, verbose=False):\n",
    "        if len(args) != 1:\n",
    "            raise TypeError(\"One argument required: document.\")\n",
    "        x = {}\n",
    "        \n",
    "        for class_id in range(0, 20):\n",
    "                class_name = self.train_data.target_names[class_id]\n",
    "                class_prob = self.get_prob(*args, class_id)\n",
    "                if verbose:\n",
    "                    print(f\"Class: {class_name}, Logits: {class_prob:.4f}\")\n",
    "                x[class_name] = class_prob\n",
    "        return max(x, key=x.get)\n",
    "            "
   ]
  },
  {
   "cell_type": "code",
   "execution_count": 94,
   "metadata": {},
   "outputs": [],
   "source": [
    "def eval(model, data):\n",
    "    corr = 0\n",
    "    total = len(data.data)\n",
    "    \n",
    "    for ind, doc in tqdm(enumerate(data.data), total=total):\n",
    "        y = data.target[ind]\n",
    "        \n",
    "        pred_class_name = model(doc, verbose=False)\n",
    "        pred = data.target_names.index(pred_class_name)\n",
    "        corr += (pred == y)\n",
    "    \n",
    "    return corr / total\n"
   ]
  },
  {
   "cell_type": "code",
   "execution_count": 102,
   "metadata": {},
   "outputs": [],
   "source": [
    "model = NaiveBayes(train_data=train_data)\n"
   ]
  },
  {
   "cell_type": "code",
   "execution_count": 103,
   "metadata": {},
   "outputs": [
    {
     "name": "stderr",
     "output_type": "stream",
     "text": [
      "100%|██████████| 11314/11314 [00:46<00:00, 244.82it/s]\n"
     ]
    },
    {
     "name": "stdout",
     "output_type": "stream",
     "text": [
      "0.7526073890754817\n"
     ]
    },
    {
     "name": "stderr",
     "output_type": "stream",
     "text": [
      "100%|██████████| 7532/7532 [00:38<00:00, 194.29it/s]"
     ]
    },
    {
     "name": "stdout",
     "output_type": "stream",
     "text": [
      "0.5225703664365374\n"
     ]
    },
    {
     "name": "stderr",
     "output_type": "stream",
     "text": [
      "\n"
     ]
    }
   ],
   "source": [
    "print(eval(model, train_data))\n",
    "print(eval(model, test_data))"
   ]
  }
 ],
 "metadata": {
  "kernelspec": {
   "display_name": "NaiveBayes",
   "language": "python",
   "name": "python3"
  },
  "language_info": {
   "codemirror_mode": {
    "name": "ipython",
    "version": 3
   },
   "file_extension": ".py",
   "mimetype": "text/x-python",
   "name": "python",
   "nbconvert_exporter": "python",
   "pygments_lexer": "ipython3",
   "version": "3.8.19"
  }
 },
 "nbformat": 4,
 "nbformat_minor": 2
}
